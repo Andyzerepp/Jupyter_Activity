{
 "cells": [
  {
   "cell_type": "markdown",
   "id": "cab79fb1-1650-45e4-83f1-98a360a75315",
   "metadata": {},
   "source": [
    "# Data Science Tools and Ecosystem"
   ]
  },
  {
   "cell_type": "markdown",
   "id": "c8b0e6e9-8b19-43ae-96fd-92398dbfba8d",
   "metadata": {},
   "source": [
    "In this notebook, Data Science Tools and Ecosystem are summarized."
   ]
  },
  {
   "cell_type": "markdown",
   "id": "67291775-7a4e-4169-9afb-4d394aee43a8",
   "metadata": {},
   "source": [
    "**Objectives:**\n",
    "\n",
    "* List of Popular Languages for Data Science\n",
    "* Commonly Used Libraries by Data Scientists\n",
    "* Data Science Tools\n",
    "* Sample Pyhton Codes"
   ]
  },
  {
   "cell_type": "markdown",
   "id": "bea224ed-095d-48b6-a840-17b4efea7754",
   "metadata": {},
   "source": [
    "## Author\n",
    "Andrea Perez"
   ]
  },
  {
   "cell_type": "markdown",
   "id": "52a5b9ee-181b-4463-972e-a3f3dd0dde93",
   "metadata": {},
   "source": [
    "Some of the popular languages that Data Scientists use are:\n",
    "1. Python\n",
    "2. R\n",
    "3. SQL\n",
    "4. Julia\n",
    "5. Scala\n",
    "6. Java"
   ]
  },
  {
   "cell_type": "markdown",
   "id": "1246cf53-08f2-4456-b359-ee33e8e43015",
   "metadata": {},
   "source": [
    "Some of the commonly used libraries used by Data Scientists include:\n",
    "\n",
    "1. Pandas\n",
    "2. Numpy\n",
    "3. matplotlib\n",
    "4. seaborn\n",
    "5. plotly\n",
    "6. tensorflow\n",
    "7. keras\n",
    "8. pytorch\n",
    "9. scikit-learn\n",
    "10. pyspark"
   ]
  },
  {
   "cell_type": "markdown",
   "id": "7e632697-5c70-4500-85c2-8b1050b4cc62",
   "metadata": {},
   "source": [
    "|Data Science Tools |\n",
    "|------------------|\n",
    "|Jupyter Notebook|\n",
    "|Google Colab|\n",
    "|VS Code|\n"
   ]
  },
  {
   "cell_type": "markdown",
   "id": "68c7f854-e33e-48d7-a35d-94e5ef001de4",
   "metadata": {},
   "source": [
    "Below are a few examples of evaluating arithmetic expressions in Python"
   ]
  },
  {
   "cell_type": "code",
   "execution_count": 11,
   "id": "9691c757-ad64-432f-99cb-bfde7e761a72",
   "metadata": {},
   "outputs": [
    {
     "data": {
      "text/plain": [
       "17"
      ]
     },
     "execution_count": 11,
     "metadata": {},
     "output_type": "execute_result"
    }
   ],
   "source": [
    "# This is a simple Arithmetic Expression to multiply\n",
    "(3*4)+5"
   ]
  },
  {
   "cell_type": "code",
   "execution_count": 13,
   "id": "fa219954-9c3a-4cd0-ae75-6536faa47866",
   "metadata": {},
   "outputs": [
    {
     "data": {
      "text/plain": [
       "3.3333333333333335"
      ]
     },
     "execution_count": 13,
     "metadata": {},
     "output_type": "execute_result"
    }
   ],
   "source": [
    "#This will convert 200 minutes to hours by diving by 60\n",
    "200/60"
   ]
  }
 ],
 "metadata": {
  "kernelspec": {
   "display_name": "Python 3 (ipykernel)",
   "language": "python",
   "name": "python3"
  },
  "language_info": {
   "codemirror_mode": {
    "name": "ipython",
    "version": 3
   },
   "file_extension": ".py",
   "mimetype": "text/x-python",
   "name": "python",
   "nbconvert_exporter": "python",
   "pygments_lexer": "ipython3",
   "version": "3.12.8"
  }
 },
 "nbformat": 4,
 "nbformat_minor": 5
}
